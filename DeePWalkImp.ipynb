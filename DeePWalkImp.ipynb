{
 "cells": [
  {
   "cell_type": "code",
   "execution_count": 5,
   "metadata": {},
   "outputs": [],
   "source": [
    "adj_list = [[1,2,3], [0,2,3], [0, 1, 3], [0, 1, 2], [5, 6], [4,6], [4, 5], [1, 3]]\n",
    "size_vertex = len(adj_list)  # number of vertices\n",
    "\n",
    "## Imports\n",
    "\n",
    "import torch\n",
    "import torch.nn as nn\n",
    "import random\n",
    "\n",
    "## Hyperparameters\n",
    "#<h2>Hyperparameters</h2>\n",
    "\n",
    "w=3            # window size\n",
    "d=2            # embedding size\n",
    "y=200          # walks per vertex\n",
    "t=6            # walk length \n",
    "lr=0.025       # learning rate\n",
    "\n",
    "v=[0,1,2,3,4,5,6,7] # labels of available vertices"
   ]
  },
  {
   "cell_type": "code",
   "execution_count": 7,
   "metadata": {},
   "outputs": [],
   "source": [
    "def RandomWalk(node,t):\n",
    "    walk = [node]        # Walk starts from this node\n",
    "    \n",
    "    for i in range(t-1):\n",
    "        node = adj_list[node][random.randint(0,len(adj_list[node])-1)]\n",
    "        walk.append(node)\n",
    "\n",
    "    return walk"
   ]
  },
  {
   "cell_type": "code",
   "execution_count": 9,
   "metadata": {},
   "outputs": [],
   "source": [
    "class Model(torch.nn.Module):\n",
    "    def __init__(self):\n",
    "        super(Model, self).__init__()\n",
    "        self.phi  = nn.Parameter(torch.rand((size_vertex, d), requires_grad=True))    \n",
    "        self.phi2 = nn.Parameter(torch.rand((d, size_vertex), requires_grad=True))\n",
    "        \n",
    "        \n",
    "    def forward(self, one_hot):\n",
    "        hidden = torch.matmul(one_hot, self.phi)\n",
    "        out    = torch.matmul(hidden, self.phi2)\n",
    "        return out\n",
    "\n",
    "model = Model()\n",
    "\n",
    "def skip_gram(wvi,  w):\n",
    "    for j in range(len(wvi)):\n",
    "        for k in range(max(0,j-w) , min(j+w, len(wvi))):\n",
    "            \n",
    "            #generate one hot vector\n",
    "            one_hot          = torch.zeros(size_vertex)\n",
    "            one_hot[wvi[j]]  = 1\n",
    "            \n",
    "            out              = model(one_hot)\n",
    "            loss             = torch.log(torch.sum(torch.exp(out))) - out[wvi[k]]\n",
    "            loss.backward()\n",
    "            \n",
    "            for param in model.parameters():\n",
    "                param.data.sub_(lr*param.grad)\n",
    "                param.grad.data.zero_()"
   ]
  },
  {
   "cell_type": "code",
   "execution_count": 11,
   "metadata": {},
   "outputs": [],
   "source": [
    "for i in range(y):\n",
    "    random.shuffle(v)\n",
    "    for vi in v:\n",
    "        wvi=RandomWalk(vi,t)\n",
    "        skip_gram(wvi, w)"
   ]
  },
  {
   "cell_type": "code",
   "execution_count": 13,
   "metadata": {},
   "outputs": [
    {
     "name": "stdout",
     "output_type": "stream",
     "text": [
      "Parameter containing:\n",
      "tensor([[ 0.6662,  0.8709],\n",
      "        [ 0.2009,  1.1126],\n",
      "        [ 0.6680,  0.8981],\n",
      "        [ 0.0520,  1.1214],\n",
      "        [-0.1113, -1.2619],\n",
      "        [ 0.4299, -1.2139],\n",
      "        [-0.3673, -1.1864],\n",
      "        [-1.0721,  0.8706]], requires_grad=True)\n"
     ]
    }
   ],
   "source": [
    "print(model.phi)"
   ]
  },
  {
   "cell_type": "code",
   "execution_count": 16,
   "metadata": {},
   "outputs": [],
   "source": [
    "def func_L(w):\n",
    "    \"\"\"\n",
    "    Parameters\n",
    "    ----------\n",
    "    w: Leaf node.\n",
    "    \n",
    "    Returns\n",
    "    -------\n",
    "    count: The length of path from the root node to the given vertex.\n",
    "    \"\"\"\n",
    "    count=1\n",
    "    while(w!=1):\n",
    "        count+=1\n",
    "        w//=2\n",
    "\n",
    "    return count"
   ]
  },
  {
   "cell_type": "code",
   "execution_count": 17,
   "metadata": {},
   "outputs": [],
   "source": [
    "# func_n returns the nth node in the path from the root node to the given vertex\n",
    "def func_n(w, j):\n",
    "    li=[w]\n",
    "    while(w!=1):\n",
    "        w = w//2\n",
    "        li.append(w)\n",
    "\n",
    "    li.reverse()\n",
    "    \n",
    "    return li[j]"
   ]
  },
  {
   "cell_type": "code",
   "execution_count": 18,
   "metadata": {},
   "outputs": [],
   "source": [
    "def sigmoid(x):\n",
    "    out = 1/(1+torch.exp(-x))\n",
    "    return out"
   ]
  },
  {
   "cell_type": "code",
   "execution_count": 19,
   "metadata": {},
   "outputs": [],
   "source": [
    "class HierarchicalModel(torch.nn.Module):\n",
    "    \n",
    "    def __init__(self):\n",
    "        super(HierarchicalModel, self).__init__()\n",
    "        self.phi         = nn.Parameter(torch.rand((size_vertex, d), requires_grad=True))   \n",
    "        self.prob_tensor = nn.Parameter(torch.rand((2*size_vertex, d), requires_grad=True))\n",
    "    \n",
    "    def forward(self, wi, wo):\n",
    "        one_hot     = torch.zeros(size_vertex)\n",
    "        one_hot[wi] = 1\n",
    "        w = size_vertex + wo\n",
    "        h = torch.matmul(one_hot,self.phi)\n",
    "        p = torch.tensor([1.0])\n",
    "        for j in range(1, func_L(w)-1):\n",
    "            mult = -1\n",
    "            if(func_n(w, j+1)==2*func_n(w, j)): # Left child\n",
    "                mult = 1\n",
    "        \n",
    "            p = p*sigmoid(mult*torch.matmul(self.prob_tensor[func_n(w,j)], h))\n",
    "        \n",
    "        return p"
   ]
  },
  {
   "cell_type": "code",
   "execution_count": 21,
   "metadata": {},
   "outputs": [
    {
     "name": "stdout",
     "output_type": "stream",
     "text": [
      "29.0 23.0 20.0 26.0 11.0 8.0 1.0 78.0 \n",
      "30.0 30.0 15.0 22.0 6.0 3.0 2.0 87.0 \n",
      "29.0 20.0 21.0 28.0 13.0 10.0 1.0 74.0 \n",
      "30.0 19.0 19.0 29.0 8.0 6.0 0.0 84.0 \n",
      "17.0 42.0 23.0 16.0 38.0 35.0 26.0 0.0 \n",
      "19.0 33.0 26.0 19.0 35.0 41.0 23.0 0.0 \n",
      "20.0 40.0 21.0 17.0 33.0 27.0 38.0 0.0 \n",
      "33.0 27.0 14.0 24.0 4.0 1.0 0.0 93.0 \n"
     ]
    }
   ],
   "source": [
    "hierarchicalModel = HierarchicalModel()\n",
    "\n",
    "def HierarchicalSkipGram(wvi,  w):\n",
    "   \n",
    "    for j in range(len(wvi)):\n",
    "        for k in range(max(0,j-w) , min(j+w, len(wvi))):\n",
    "            #generate one hot vector\n",
    "       \n",
    "            prob = hierarchicalModel(wvi[j], wvi[k])\n",
    "            loss = - torch.log(prob)\n",
    "            loss.backward()\n",
    "            for param in hierarchicalModel.parameters():\n",
    "                param.data.sub_(lr*param.grad)\n",
    "                param.grad.data.zero_()\n",
    "\n",
    "for i in range(y):\n",
    "    random.shuffle(v)\n",
    "    for vi in v:\n",
    "        wvi = RandomWalk(vi,t)\n",
    "        HierarchicalSkipGram(wvi, w)\n",
    "\n",
    "for i in range(8):\n",
    "    for j in range(8):\n",
    "        print((hierarchicalModel(i,j).item()*100)//1, end=' ')\n",
    "    print(end = '\\n')"
   ]
  },
  {
   "cell_type": "code",
   "execution_count": null,
   "metadata": {},
   "outputs": [],
   "source": []
  }
 ],
 "metadata": {
  "kernelspec": {
   "display_name": "Python 3",
   "language": "python",
   "name": "python3"
  },
  "language_info": {
   "codemirror_mode": {
    "name": "ipython",
    "version": 3
   },
   "file_extension": ".py",
   "mimetype": "text/x-python",
   "name": "python",
   "nbconvert_exporter": "python",
   "pygments_lexer": "ipython3",
   "version": "3.7.4"
  }
 },
 "nbformat": 4,
 "nbformat_minor": 4
}
